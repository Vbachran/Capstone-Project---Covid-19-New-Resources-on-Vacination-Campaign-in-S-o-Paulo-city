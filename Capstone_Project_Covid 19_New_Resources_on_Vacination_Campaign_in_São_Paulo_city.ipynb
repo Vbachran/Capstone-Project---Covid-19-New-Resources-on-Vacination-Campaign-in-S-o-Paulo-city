{
 "metadata": {
  "language_info": {
   "codemirror_mode": {
    "name": "ipython",
    "version": 3
   },
   "file_extension": ".py",
   "mimetype": "text/x-python",
   "name": "python",
   "nbconvert_exporter": "python",
   "pygments_lexer": "ipython3",
   "version": "3.8.5-final"
  },
  "orig_nbformat": 2,
  "kernelspec": {
   "name": "python3",
   "display_name": "Python 3.8.5 64-bit",
   "metadata": {
    "interpreter": {
     "hash": "aee8b7b246df8f9039afb4144a1f6fd8d2ca17a180786b69acc140d282b71a49"
    }
   }
  }
 },
 "nbformat": 4,
 "nbformat_minor": 2,
 "cells": [
  {
   "source": [
    "# Capstone Project - Covid 19: New Resources on Vacination Campaign in São Paulo city\n",
    "---\n",
    "## Applied Data Science Capstone by IBM/Coursera"
   ],
   "cell_type": "markdown",
   "metadata": {}
  },
  {
   "source": [
    "# 1. Introduction"
   ],
   "cell_type": "markdown",
   "metadata": {}
  },
  {
   "source": [
    "## 1.1. Context"
   ],
   "cell_type": "markdown",
   "metadata": {}
  },
  {
   "source": [
    "The COVID-19 pandemic in Brazil is part of the ongoing pandemic of coronavirus disease 2019 (COVID-19) caused by severe acute respiratory syndrome coronavirus 2 (SARS-CoV-2). The virus was confirmed to have spread to Brazil on 25 February 2020,when a man from São Paulo tested positive for the virus.\n",
    "\n",
    "As of June 2021, Brazil, with over 17 million confirmed cases and over 500,000 deaths, has the third-highest number of confirmed cases and second-highest death toll from COVID-19 in the world, behind only those of the United States and of India.\n"
   ],
   "cell_type": "markdown",
   "metadata": {}
  },
  {
   "source": [
    "## 1.2. Business Problem"
   ],
   "cell_type": "markdown",
   "metadata": {}
  },
  {
   "source": [
    "Covid vaccination in Brazil started in February/2021 very slowly, using 2 types of Vaccine: CoronaVac and AztraZeneca. At the end of April/21 we received the first doses of the Pfizer vaccine and now the government needs to carry out a mass vaccination mainly in the city of São Paulo with 830,000 confirmed cases and 32,500 deaths, as it is a major Covid focus, but the numbers of UBS (Basic Health Unit) and trained personnel not being able to reach the necessary speed of vaccination to stop this pandemic.\n",
    "\n",
    "Using the example and methodology implemented in the USA, my work comprises the geographic location of all UBS in the city of São Paulo, integrating with a chain of Pharmacies in the city (infrastructure and specialized labor). This project uses some powers of data science to generate some classification models and clustering applications to provide infrastructure and human resources in the vaccination process.\n",
    "\n",
    "By considering all these variables, we can create a map and graphs indicating all the possible points that a Health Secretary in the  city of São Paulo can use to carry out vaccination depending on the population and its geographic distribution.\n"
   ],
   "cell_type": "markdown",
   "metadata": {}
  },
  {
   "source": [
    "## 1.3. Data Ingestion"
   ],
   "cell_type": "markdown",
   "metadata": {}
  },
  {
   "source": [
    "* Geospacial locations and center coordinates: IBGE site;\n",
    "* Venues (pharmacies,restaurants, hotels, stores...) data were obtained from Foursquare API;\n",
    "* UBS (Basic Health Unit) data were collected from IBGE site, like: attendancy capacity in population number, latitudes and longitudes;\n",
    "* 1st Consideration: I selected all these data above, considering São Paulo city geography;\n",
    "* 2nd Consideration: IBGE geospacial data and UBS data were connected through a sharing code, in order to join the tables, centering all information in the same local.\n"
   ],
   "cell_type": "markdown",
   "metadata": {}
  },
  {
   "source": [
    "# 2. Methodology"
   ],
   "cell_type": "markdown",
   "metadata": {}
  },
  {
   "cell_type": "code",
   "execution_count": 1,
   "metadata": {},
   "outputs": [
    {
     "output_type": "stream",
     "name": "stdout",
     "text": [
      "Libraries imported!\n"
     ]
    }
   ],
   "source": [
    "#Importing Libraries\n",
    "\n",
    "# Data Analysis\n",
    "import numpy as np \n",
    "\n",
    "import pandas as pd \n",
    "pd.set_option('display.max_rows', 500)\n",
    "pd.set_option('display.max_columns', 500)\n",
    "pd.set_option('display.width', 1000)\n",
    "\n",
    "# JSON \n",
    "import json \n",
    "\n",
    "# Latitude and Longitude\n",
    "from geopy.geocoders import Nominatim \n",
    "\n",
    "#  JSON to Pandas DataFrame\n",
    "from pandas.io.json import json_normalize \n",
    "\n",
    "# Matplotlib \n",
    "import matplotlib.cm as cm\n",
    "import matplotlib.colors as colors\n",
    "import matplotlib.pyplot as plt\n",
    "import matplotlib.pyplot as plt; plt.rcdefaults()\n",
    "\n",
    "# K-means \n",
    "from sklearn.cluster import KMeans\n",
    "\n",
    "# Rendering Maps\n",
    "import folium \n",
    "\n",
    "#Requests\n",
    "import requests\n",
    "\n",
    "print('Libraries imported!')"
   ]
  },
  {
   "cell_type": "code",
   "execution_count": null,
   "metadata": {},
   "outputs": [],
   "source": []
  }
 ]
}